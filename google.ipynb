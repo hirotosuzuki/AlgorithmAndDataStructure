{
 "cells": [
  {
   "cell_type": "code",
   "execution_count": 3,
   "metadata": {},
   "outputs": [],
   "source": [
    "c = 0\n",
    "answer = 3"
   ]
  },
  {
   "cell_type": "code",
   "execution_count": 4,
   "metadata": {},
   "outputs": [
    {
     "name": "stdout",
     "output_type": "stream",
     "text": [
      "Case #1: 3\n"
     ]
    }
   ],
   "source": [
    "print(\"Case #{case}: {answer}\".format(case=c+1, answer=answer))"
   ]
  },
  {
   "cell_type": "code",
   "execution_count": 5,
   "metadata": {},
   "outputs": [],
   "source": [
    "def BFS(K,edges,N):\n",
    "  roots=[ [] for i in range(N)]\n",
    "  for a,b,c in edges:\n",
    "    roots[a-1]+=[(b-1,c)]\n",
    "    roots[b-1]+=[(a-1,c)]\n",
    "  dist=[-1]*N\n",
    "  stack=[]\n",
    "  stack.append(K)\n",
    "  dist[K]=0\n",
    "  while stack:\n",
    "    label=stack.pop(-1)\n",
    "    for i,c in roots[label]:\n",
    "      if dist[i]==-1:\n",
    "        dist[i]=dist[label]+c\n",
    "        stack+=[i]\n",
    "  return dist"
   ]
  },
  {
   "cell_type": "code",
   "execution_count": 15,
   "metadata": {},
   "outputs": [],
   "source": [
    "def BFS(K,edges,N):\n",
    "    roots=[ [] for i in range(N)]\n",
    "    for a,b in edges:\n",
    "        roots[a-1]+=[(b-1,1)]\n",
    "        roots[b-1]+=[(a-1,1)]\n",
    "    print(roots)\n",
    "    dist=[-1]*N\n",
    "    stack=[]\n",
    "    stack.append(K)\n",
    "    dist[K]=0\n",
    "    while stack:\n",
    "        label=stack.pop(-1)\n",
    "        for i,c in roots[label]:\n",
    "            if dist[i]==-1:\n",
    "                dist[i]=dist[label]+c\n",
    "                stack+=[i]\n",
    "    return dist"
   ]
  },
  {
   "cell_type": "code",
   "execution_count": null,
   "metadata": {},
   "outputs": [],
   "source": [
    "def BFS(K,edges,N):\n",
    "    roots=[ [] for i in range(N)]\n",
    "    for a,b in edges:\n",
    "        roots[a-1]+=[(b-1,1)]\n",
    "        roots[b-1]+=[(a-1,1)]\n",
    "    print(roots)\n",
    "    dist=[-1]*N\n",
    "    stack=[]\n",
    "    stack.append(K)\n",
    "    dist[K]=0\n",
    "    while stack:\n",
    "        label=stack.pop(-1)\n",
    "        for i,c in roots[label]:\n",
    "            if dist[i]==-1:\n",
    "                dist[i]=dist[label]+c\n",
    "                stack+=[i]\n",
    "    return dist"
   ]
  },
  {
   "cell_type": "code",
   "execution_count": 17,
   "metadata": {},
   "outputs": [],
   "source": [
    "K = 0\n",
    "edges = [[1, 4], [2, 3], [3, 4], [4, 5], [5, 6]]\n",
    "N = 6"
   ]
  },
  {
   "cell_type": "code",
   "execution_count": 18,
   "metadata": {},
   "outputs": [
    {
     "name": "stdout",
     "output_type": "stream",
     "text": [
      "[[(3, 1)], [(2, 1)], [(1, 1), (3, 1)], [(0, 1), (2, 1), (4, 1)], [(3, 1), (5, 1)], [(4, 1)]]\n"
     ]
    },
    {
     "data": {
      "text/plain": [
       "[0, 3, 2, 1, 2, 3]"
      ]
     },
     "execution_count": 18,
     "metadata": {},
     "output_type": "execute_result"
    }
   ],
   "source": [
    "BFS(K,edges,N)"
   ]
  },
  {
   "cell_type": "code",
   "execution_count": 20,
   "metadata": {},
   "outputs": [
    {
     "name": "stdout",
     "output_type": "stream",
     "text": [
      "[[(3, 1)], [(2, 1)], [(1, 1), (3, 1)], [(0, 1), (2, 1), (4, 1)], [(3, 1), (5, 1)], [(4, 1)]]\n"
     ]
    },
    {
     "data": {
      "text/plain": [
       "3"
      ]
     },
     "execution_count": 20,
     "metadata": {},
     "output_type": "execute_result"
    }
   ],
   "source": [
    "max(BFS(K,edges,N))"
   ]
  },
  {
   "cell_type": "code",
   "execution_count": 21,
   "metadata": {},
   "outputs": [],
   "source": [
    "dist = [1,1, 2,3,3]"
   ]
  },
  {
   "cell_type": "code",
   "execution_count": 22,
   "metadata": {},
   "outputs": [
    {
     "data": {
      "text/plain": [
       "3"
      ]
     },
     "execution_count": 22,
     "metadata": {},
     "output_type": "execute_result"
    }
   ],
   "source": [
    "max(dist)"
   ]
  },
  {
   "cell_type": "code",
   "execution_count": 23,
   "metadata": {},
   "outputs": [],
   "source": [
    "options = [100, 350, 650]"
   ]
  },
  {
   "cell_type": "code",
   "execution_count": 31,
   "metadata": {},
   "outputs": [],
   "source": [
    "import itertools\n",
    "f = 850"
   ]
  },
  {
   "cell_type": "code",
   "execution_count": 32,
   "metadata": {},
   "outputs": [],
   "source": [
    "c_2 = [a+b+f for a, b in itertools.combinations(options, 2)]"
   ]
  },
  {
   "cell_type": "code",
   "execution_count": 33,
   "metadata": {},
   "outputs": [
    {
     "data": {
      "text/plain": [
       "[1300, 1600, 1850]"
      ]
     },
     "execution_count": 33,
     "metadata": {},
     "output_type": "execute_result"
    }
   ],
   "source": [
    "c_2"
   ]
  },
  {
   "cell_type": "code",
   "execution_count": 34,
   "metadata": {},
   "outputs": [
    {
     "data": {
      "text/plain": [
       "100"
      ]
     },
     "execution_count": 34,
     "metadata": {},
     "output_type": "execute_result"
    }
   ],
   "source": [
    "abs(100)"
   ]
  },
  {
   "cell_type": "code",
   "execution_count": null,
   "metadata": {},
   "outputs": [],
   "source": []
  }
 ],
 "metadata": {
  "kernelspec": {
   "display_name": "Python 3",
   "language": "python",
   "name": "python3"
  },
  "language_info": {
   "codemirror_mode": {
    "name": "ipython",
    "version": 3
   },
   "file_extension": ".py",
   "mimetype": "text/x-python",
   "name": "python",
   "nbconvert_exporter": "python",
   "pygments_lexer": "ipython3",
   "version": "3.6.4"
  }
 },
 "nbformat": 4,
 "nbformat_minor": 2
}
